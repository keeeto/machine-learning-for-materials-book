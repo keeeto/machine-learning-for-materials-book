{
 "cells": [
  {
   "cell_type": "code",
   "execution_count": null,
   "id": "45192bb6",
   "metadata": {},
   "outputs": [],
   "source": [
    "import pandas as pd\n",
    "import numpy as np\n",
    "import os\n",
    "import shap\n",
    "import pickle"
   ]
  },
  {
   "cell_type": "code",
   "execution_count": null,
   "id": "48566b3e",
   "metadata": {},
   "outputs": [],
   "source": [
    "oxides = pd.read_pickle('../data/training_data.pickle')\n",
    "model = pickle.load(open('../models/gb_tree_best.pkl', 'rb'))\n",
    "cols = [a for a in list(oxides.columns) if a not in ['gllbsc_gap']]\n",
    "X = oxides[cols]"
   ]
  },
  {
   "cell_type": "code",
   "execution_count": null,
   "id": "7db2aed0",
   "metadata": {},
   "outputs": [],
   "source": [
    "shap.initjs()\n",
    "explainer = shap.TreeExplainer(model)\n",
    "shap_values = explainer.shap_values(X)"
   ]
  },
  {
   "cell_type": "code",
   "execution_count": null,
   "id": "fd283c07",
   "metadata": {},
   "outputs": [],
   "source": [
    "ind = 16\n",
    "shap.force_plot(explainer.expected_value, shap_values[ind,:], \n",
    "                X.iloc[ind,:])"
   ]
  },
  {
   "cell_type": "code",
   "execution_count": null,
   "id": "371a014d",
   "metadata": {},
   "outputs": [],
   "source": [
    "shap.summary_plot(shap_values, X)"
   ]
  },
  {
   "cell_type": "code",
   "execution_count": null,
   "id": "c5b3219f",
   "metadata": {},
   "outputs": [],
   "source": [
    "shap.dependence_plot(\"HOMO_energy\", shap_values, X)\n",
    "shap.dependence_plot(\"LUMO_energy\", shap_values, X, interaction_index=\"HOMO_energy\")"
   ]
  },
  {
   "cell_type": "code",
   "execution_count": null,
   "id": "eae02a35",
   "metadata": {},
   "outputs": [],
   "source": []
  }
 ],
 "metadata": {
  "kernelspec": {
   "display_name": "Python 3 (ipykernel)",
   "language": "python",
   "name": "python3"
  },
  "language_info": {
   "codemirror_mode": {
    "name": "ipython",
    "version": 3
   },
   "file_extension": ".py",
   "mimetype": "text/x-python",
   "name": "python",
   "nbconvert_exporter": "python",
   "pygments_lexer": "ipython3",
   "version": "3.8.12"
  }
 },
 "nbformat": 4,
 "nbformat_minor": 5
}
