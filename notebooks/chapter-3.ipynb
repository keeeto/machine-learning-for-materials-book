{
 "cells": [
  {
   "cell_type": "code",
   "execution_count": null,
   "id": "a91c79e1",
   "metadata": {},
   "outputs": [],
   "source": [
    "import warnings\n",
    "import numpy as np\n",
    "import pandas as pd\n",
    "import pickle\n",
    "### Pymatgen imports ###\n",
    "from pymatgen.ext.matproj import MPRester\n",
    "from matminer.data_retrieval.retrieve_MP import MPDataRetrieval\n",
    "from matminer.featurizers import composition as cf\n",
    "from matminer.featurizers.conversions import StrToComposition\n",
    "from matminer.featurizers.base import MultipleFeaturizer\n",
    "\n",
    "### Sklearn imports ###\n",
    "from sklearn import ensemble\n",
    "from sklearn.model_selection import KFold , cross_val_score\n",
    "from sklearn.model_selection import cross_val_predict"
   ]
  },
  {
   "cell_type": "code",
   "execution_count": null,
   "id": "78ec4dca",
   "metadata": {},
   "outputs": [],
   "source": [
    "API_key = 'XXXXXXXXXXXXX'\n",
    "warnings.filterwarnings('ignore')\n",
    "m = MPRester (API_key)\n",
    "mpr = MPDataRetrieval(API_key)"
   ]
  },
  {
   "cell_type": "code",
   "execution_count": null,
   "id": "96c5db26",
   "metadata": {},
   "outputs": [],
   "source": [
    "criteria = {'elements': {'$in': ['S']}, 'band_gap':{ '$gt': 0.2}}\n",
    "properties = ['task_id','formula', 'elements', 'anonymous_formula', 'formation_energy_per_atom', 'e_above_hull']"
   ]
  },
  {
   "cell_type": "code",
   "execution_count": null,
   "id": "41680a34",
   "metadata": {},
   "outputs": [],
   "source": [
    "dataset = mpr.get_dataframe ( criteria = criteria , properties = properties )"
   ]
  },
  {
   "cell_type": "code",
   "execution_count": null,
   "id": "967069ba",
   "metadata": {},
   "outputs": [],
   "source": [
    "stc = StrToComposition()\n",
    "stc.featurize_dataframe(dataset, col_id='formula', inplace=True)\n",
    "feature_calculators = MultipleFeaturizer ([cf.Stoichiometry(), cf. ElementProperty.from_preset(\"magpie\")])\n",
    "\n",
    "feature_labels = feature_calculators.feature_labels()\n",
    "sulfides = feature_calculators.featurize_dataframe(dataset, col_id = 'composition', ignore_errors = True)"
   ]
  },
  {
   "cell_type": "code",
   "execution_count": null,
   "id": "8715ae84",
   "metadata": {},
   "outputs": [],
   "source": [
    "# Alphabetise columns to make it easier later for use on new data\n",
    "sulfides = sulfides.reindex(sorted(sulfides.columns), axis =1)\n",
    "\n",
    "# Choose columns to train on\n",
    "X_cols = [c for c in sulfides.columns if c not in ['task_id', 'formula', 'elements', 'anonymous_formula', 'formation_energy_per_atom', 'e_above_hull', 'composition']]\n",
    "\n",
    "y = sulfides['formation_energy_per_atom'].values\n",
    "X = sulfides[X_cols].values"
   ]
  },
  {
   "cell_type": "code",
   "execution_count": null,
   "id": "11448f8b",
   "metadata": {},
   "outputs": [],
   "source": [
    "gbr = ensemble.GradientBoostingRegressor (max_depth = 20,\n",
    "learning_rate = 0.014485 ,\n",
    "min_samples_split = 65,\n",
    "min_samples_leaf = 1,\n",
    "max_features = 86,\n",
    "subsample = 0.9 , n_estimators = 100)\n",
    "\n",
    "gbr.fit(X, y)\n",
    "X = sulfides[X_cols].values"
   ]
  },
  {
   "cell_type": "code",
   "execution_count": null,
   "id": "5f286458",
   "metadata": {},
   "outputs": [],
   "source": [
    "# Decide how to do cross-validation\n",
    "crossvalidation = KFold(n_splits=10, shuffle=True, random_state=1)\n",
    "\n",
    "scores = cross_val_score(gbr, X, y, scoring='neg_mean_squared_error',\n",
    "                                 cv=crossvalidation, n_jobs=5)\n",
    "average_score = np.mean(scores)\n",
    "print('GBR model RMSE: {}'.format(np.sqrt(abs(average_score))))"
   ]
  },
  {
   "cell_type": "code",
   "execution_count": null,
   "id": "dbe72601",
   "metadata": {},
   "outputs": [],
   "source": [
    "filename = 'finalized_model.sav'\n",
    "pickle.dump(gbr, open(filename, 'wb'))"
   ]
  }
 ],
 "metadata": {
  "kernelspec": {
   "display_name": "Python 3 (ipykernel)",
   "language": "python",
   "name": "python3"
  },
  "language_info": {
   "codemirror_mode": {
    "name": "ipython",
    "version": 3
   },
   "file_extension": ".py",
   "mimetype": "text/x-python",
   "name": "python",
   "nbconvert_exporter": "python",
   "pygments_lexer": "ipython3",
   "version": "3.8.12"
  }
 },
 "nbformat": 4,
 "nbformat_minor": 5
}
